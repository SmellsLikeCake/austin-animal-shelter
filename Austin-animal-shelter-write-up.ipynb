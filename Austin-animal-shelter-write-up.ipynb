{
 "cells": [
  {
   "cell_type": "code",
   "execution_count": 1,
   "metadata": {},
   "outputs": [],
   "source": [
    "import numpy as np\n",
    "import pandas as pd\n",
    "import matplotlib.pyplot as plt\n",
    "%matplotlib inline\n",
    "import seaborn as sns"
   ]
  },
  {
   "cell_type": "markdown",
   "metadata": {},
   "source": [
    "# Forecasting the population of the Austin Animal Center\n",
    "\n",
    "This project uses data from the Austin Animal Center to forecast the expected population of the shelter. Forecasting the number of animals the shelter is likely to have in future is important for the shelter in terms of planning, budgeting and resourcing. \n",
    "\n",
    "The data I have used for this project can be downloaded from [here](https://www.kaggle.com/aaronschlegel/austin-animal-center-shelter-intakes-and-outcomes).\n",
    "\n",
    "## Data\n",
    "### Initial exploration"
   ]
  },
  {
   "cell_type": "code",
   "execution_count": 2,
   "metadata": {},
   "outputs": [],
   "source": [
    "aac = pd.read_csv('aac_intakes_outcomes.csv')"
   ]
  },
  {
   "cell_type": "code",
   "execution_count": 3,
   "metadata": {},
   "outputs": [
    {
     "data": {
      "text/plain": [
       "(79672, 41)"
      ]
     },
     "execution_count": 3,
     "metadata": {},
     "output_type": "execute_result"
    }
   ],
   "source": [
    "aac.shape"
   ]
  },
  {
   "cell_type": "markdown",
   "metadata": {},
   "source": [
    "There are 79,672 observations in the data and 41 variables."
   ]
  },
  {
   "cell_type": "code",
   "execution_count": 4,
   "metadata": {},
   "outputs": [
    {
     "data": {
      "text/plain": [
       "age_upon_outcome                                                   10 years\n",
       "animal_id_outcome                                                   A006100\n",
       "date_of_birth                                           2007-07-09 00:00:00\n",
       "outcome_subtype                                                         NaN\n",
       "outcome_type                                                Return to Owner\n",
       "sex_upon_outcome                                              Neutered Male\n",
       "age_upon_outcome_(days)                                                3650\n",
       "age_upon_outcome_(years)                                                 10\n",
       "age_upon_outcome_age_group                                      (7.5, 10.0]\n",
       "outcome_datetime                                        2017-12-07 14:07:00\n",
       "outcome_month                                                            12\n",
       "outcome_year                                                           2017\n",
       "outcome_monthyear                                                   2017-12\n",
       "outcome_weekday                                                    Thursday\n",
       "outcome_hour                                                              0\n",
       "outcome_number                                                            1\n",
       "dob_year                                                               2007\n",
       "dob_month                                                                 7\n",
       "dob_monthyear                                                       2017-12\n",
       "age_upon_intake                                                    10 years\n",
       "animal_id_intake                                                    A006100\n",
       "animal_type                                                             Dog\n",
       "breed                                                  Spinone Italiano Mix\n",
       "color                                                          Yellow/White\n",
       "found_location                Colony Creek And Hunters Trace in Austin (TX)\n",
       "intake_condition                                                     Normal\n",
       "intake_type                                                           Stray\n",
       "sex_upon_intake                                               Neutered Male\n",
       "count                                                                     1\n",
       "age_upon_intake_(days)                                                 3650\n",
       "age_upon_intake_(years)                                                  10\n",
       "age_upon_intake_age_group                                       (7.5, 10.0]\n",
       "intake_datetime                                         2017-12-07 00:00:00\n",
       "intake_month                                                             12\n",
       "intake_year                                                            2017\n",
       "intake_monthyear                                                    2017-12\n",
       "intake_weekday                                                     Thursday\n",
       "intake_hour                                                              14\n",
       "intake_number                                                             1\n",
       "time_in_shelter                                   0 days 14:07:00.000000000\n",
       "time_in_shelter_days                                               0.588194\n",
       "Name: 0, dtype: object"
      ]
     },
     "execution_count": 4,
     "metadata": {},
     "output_type": "execute_result"
    }
   ],
   "source": [
    "aac.loc[0, ]"
   ]
  },
  {
   "cell_type": "markdown",
   "metadata": {},
   "source": [
    "Several of the variables are derivatives of the time the animal arrived at or left the shelter. "
   ]
  },
  {
   "cell_type": "code",
   "execution_count": 5,
   "metadata": {},
   "outputs": [
    {
     "data": {
      "text/plain": [
       "age_upon_outcome                  0\n",
       "animal_id_outcome                 0\n",
       "date_of_birth                     0\n",
       "outcome_subtype               43324\n",
       "outcome_type                     10\n",
       "sex_upon_outcome                  1\n",
       "age_upon_outcome_(days)           0\n",
       "age_upon_outcome_(years)          0\n",
       "age_upon_outcome_age_group        0\n",
       "outcome_datetime                  0\n",
       "outcome_month                     0\n",
       "outcome_year                      0\n",
       "outcome_monthyear                 0\n",
       "outcome_weekday                   0\n",
       "outcome_hour                      0\n",
       "outcome_number                    0\n",
       "dob_year                          0\n",
       "dob_month                         0\n",
       "dob_monthyear                     0\n",
       "age_upon_intake                   0\n",
       "animal_id_intake                  0\n",
       "animal_type                       0\n",
       "breed                             0\n",
       "color                             0\n",
       "found_location                    0\n",
       "intake_condition                  0\n",
       "intake_type                       0\n",
       "sex_upon_intake                   1\n",
       "count                             0\n",
       "age_upon_intake_(days)            0\n",
       "age_upon_intake_(years)           0\n",
       "age_upon_intake_age_group         0\n",
       "intake_datetime                   0\n",
       "intake_month                      0\n",
       "intake_year                       0\n",
       "intake_monthyear                  0\n",
       "intake_weekday                    0\n",
       "intake_hour                       0\n",
       "intake_number                     0\n",
       "time_in_shelter                   0\n",
       "time_in_shelter_days              0\n",
       "dtype: int64"
      ]
     },
     "execution_count": 5,
     "metadata": {},
     "output_type": "execute_result"
    }
   ],
   "source": [
    "aac.isnull().sum()"
   ]
  },
  {
   "cell_type": "markdown",
   "metadata": {},
   "source": [
    "There is very little data missing from the dataset. The outcome subtype is often missing but this may be because it is often not relevant (e.g. there appears to be no subtype needed if the animal was returned to owner)."
   ]
  },
  {
   "cell_type": "markdown",
   "metadata": {},
   "source": [
    "### Checking"
   ]
  },
  {
   "cell_type": "code",
   "execution_count": 6,
   "metadata": {},
   "outputs": [
    {
     "name": "stdout",
     "output_type": "stream",
     "text": [
      "79518 : age_upon_outcome > age_upon_intake\n",
      "79672 : Year in date_of_birth = dob_year\n",
      "79672 : outcome_year - dob_year - age (years) = -1, 0 or 1\n",
      "79672 : animal_id_intake = animal_id_outcome\n",
      "79672 : outcome_datetime >= intake_datetime\n",
      "79672 : outcome_datetime - intake_datetime = time_in_shelter\n"
     ]
    }
   ],
   "source": [
    "## These should all total 79,672.\n",
    "\n",
    "print(sum(aac['age_upon_outcome_(years)'] >= aac['age_upon_intake_(years)']), ': age_upon_outcome > age_upon_intake', )\n",
    "print(sum(aac['dob_year'] == pd.to_datetime(aac['date_of_birth']).apply(lambda x: x.year)), ': Year in date_of_birth = dob_year')\n",
    "print(sum((aac['outcome_year'] - aac['dob_year'] - aac['age_upon_outcome_(years)'].astype(int)).isin([-1, 0, 1])), ': outcome_year - dob_year - age (years) = -1, 0 or 1')\n",
    "print(sum(aac['animal_id_intake'] == aac['animal_id_outcome']), ': animal_id_intake = animal_id_outcome')\n",
    "print(sum(pd.to_datetime(aac['outcome_datetime']) >= pd.to_datetime(aac['intake_datetime'])), ': outcome_datetime >= intake_datetime')\n",
    "print(sum((pd.to_datetime(aac['outcome_datetime']) - pd.to_datetime(aac['intake_datetime'])) == aac['time_in_shelter']), ': outcome_datetime - intake_datetime = time_in_shelter')"
   ]
  },
  {
   "cell_type": "markdown",
   "metadata": {},
   "source": [
    "Generally the data appears in good shape. Around 150 ages change in the wrong direction while animals are at the shelter, though this may because their ages are guessed when they arrive."
   ]
  },
  {
   "cell_type": "markdown",
   "metadata": {},
   "source": [
    "### Exploratory data analysis"
   ]
  },
  {
   "cell_type": "markdown",
   "metadata": {},
   "source": [
    "#### Animal features"
   ]
  },
  {
   "cell_type": "code",
   "execution_count": 7,
   "metadata": {},
   "outputs": [
    {
     "data": {
      "text/plain": [
       "Dog      45366\n",
       "Cat      29539\n",
       "Other     4428\n",
       "Bird       339\n",
       "Name: animal_type, dtype: int64"
      ]
     },
     "execution_count": 7,
     "metadata": {},
     "output_type": "execute_result"
    }
   ],
   "source": [
    "aac.animal_type.value_counts()"
   ]
  },
  {
   "cell_type": "code",
   "execution_count": 8,
   "metadata": {},
   "outputs": [
    {
     "data": {
      "text/plain": [
       "Domestic Shorthair Mix                       23423\n",
       "Pit Bull Mix                                  6256\n",
       "Chihuahua Shorthair Mix                       4831\n",
       "Labrador Retriever Mix                        4789\n",
       "Domestic Medium Hair Mix                      2326\n",
       "German Shepherd Mix                           1950\n",
       "Bat Mix                                       1381\n",
       "Domestic Longhair Mix                         1248\n",
       "Australian Cattle Dog Mix                     1099\n",
       "Siamese Mix                                    996\n",
       "Bat                                            827\n",
       "Dachshund Mix                                  811\n",
       "Boxer Mix                                      683\n",
       "Border Collie Mix                              662\n",
       "Miniature Poodle Mix                           662\n",
       "Catahoula Mix                                  480\n",
       "Raccoon Mix                                    471\n",
       "Rat Terrier Mix                                469\n",
       "Australian Shepherd Mix                        468\n",
       "Yorkshire Terrier Mix                          447\n",
       "Siberian Husky Mix                             441\n",
       "Jack Russell Terrier Mix                       429\n",
       "Miniature Schnauzer Mix                        402\n",
       "Beagle Mix                                     392\n",
       "Domestic Shorthair                             387\n",
       "Staffordshire Mix                              375\n",
       "Chihuahua Longhair Mix                         371\n",
       "Great Pyrenees Mix                             349\n",
       "Cairn Terrier Mix                              348\n",
       "Pointer Mix                                    336\n",
       "                                             ...  \n",
       "Bichon Frise/Pekingese                           1\n",
       "Collie Rough/Pointer                             1\n",
       "Pug/Pomeranian                                   1\n",
       "Black/Tan Hound/Great Dane                       1\n",
       "Basenji/Labrador Retriever                       1\n",
       "Toy Poodle/Dachshund                             1\n",
       "Havana Brown Mix                                 1\n",
       "Papillon/Miniature Poodle                        1\n",
       "Flat Coat Retriever/Chow Chow                    1\n",
       "Dachshund/Dachshund                              1\n",
       "Beagle/Chihuahua Longhair                        1\n",
       "Airedale Terrier/Miniature Schnauzer             1\n",
       "Australian Shepherd/Dachshund                    1\n",
       "Collie Smooth/Saluki                             1\n",
       "Black/Tan Hound/German Shepherd                  1\n",
       "Boerboel                                         1\n",
       "Collie Smooth/Jack Russell Terrier               1\n",
       "Shih Tzu/Cavalier Span                           1\n",
       "Rex-Mini/Lop-English                             1\n",
       "American Bulldog/Great Pyrenees                  1\n",
       "Rottweiler/Beagle                                1\n",
       "Australian Kelpie/Finnish Spitz                  1\n",
       "Airedale Terrier/Irish Terrier                   1\n",
       "Siberian Husky/Australian Shepherd               1\n",
       "Queensland Heeler/Labrador Retriever             1\n",
       "Feist/Chihuahua Shorthair                        1\n",
       "Australian Shepherd/Feist                        1\n",
       "Chinese Sharpei/Boxer                            1\n",
       "Cardigan Welsh Corgi/Cardigan Welsh Corgi        1\n",
       "Treeing Walker Coonhound/Plott Hound             1\n",
       "Name: breed, Length: 2155, dtype: int64"
      ]
     },
     "execution_count": 8,
     "metadata": {},
     "output_type": "execute_result"
    }
   ],
   "source": [
    "aac.breed.value_counts()"
   ]
  },
  {
   "cell_type": "markdown",
   "metadata": {},
   "source": [
    "There are 2,155 different breeds which look to be mostly (though not exclusively) related to dogs. There is likely to be some overlap in the labels (e.g. the Jack Russell Terrier Mix might be the same as a Jack Russell Terrier/Shetland Sheepdog)."
   ]
  },
  {
   "cell_type": "code",
   "execution_count": 9,
   "metadata": {},
   "outputs": [
    {
     "data": {
      "text/plain": [
       "Black/White                  8270\n",
       "Black                        6673\n",
       "Brown Tabby                  4471\n",
       "Brown                        3598\n",
       "White                        2835\n",
       "Brown/White                  2516\n",
       "Tan/White                    2462\n",
       "Brown Tabby/White            2351\n",
       "Orange Tabby                 2182\n",
       "White/Black                  2172\n",
       "Blue/White                   2127\n",
       "Tricolor                     2031\n",
       "Tan                          2022\n",
       "Black/Tan                    1847\n",
       "Black/Brown                  1619\n",
       "White/Brown                  1604\n",
       "Brown Brindle/White          1374\n",
       "Brown/Black                  1367\n",
       "Tortie                       1344\n",
       "Blue                         1335\n",
       "Calico                       1333\n",
       "White/Tan                    1195\n",
       "Blue Tabby                   1136\n",
       "Orange Tabby/White           1105\n",
       "Red                          1047\n",
       "Red/White                     858\n",
       "Torbie                        845\n",
       "Brown Brindle                 728\n",
       "Tan/Black                     637\n",
       "Chocolate/White               614\n",
       "                             ... \n",
       "White/Green                     1\n",
       "Blue Smoke/Gray                 1\n",
       "Tortie/Brown                    1\n",
       "Blue Cream/Buff                 1\n",
       "Gray/Buff                       1\n",
       "Blue/Calico                     1\n",
       "Chocolate/Gold                  1\n",
       "Blue/Yellow                     1\n",
       "Blue Tabby/Buff                 1\n",
       "Green/Red                       1\n",
       "Torbie/Silver Tabby             1\n",
       "Tortie Point/Lynx Point         1\n",
       "Chocolate/Gray                  1\n",
       "Brown Tabby/Gray Tabby          1\n",
       "Brown Brindle/Blue              1\n",
       "Sable/Gray                      1\n",
       "Black Tabby/Black               1\n",
       "Brown Brindle/Blue Cream        1\n",
       "Silver/Blue                     1\n",
       "Brown Merle/Brown Tabby         1\n",
       "Lynx Point/Tortie Point         1\n",
       "Black Brindle/Blue              1\n",
       "Black Tabby/Gray Tabby          1\n",
       "Agouti/Gray                     1\n",
       "Gray Tabby/Orange               1\n",
       "Red Merle/Red Merle             1\n",
       "Tortie/Blue Tabby               1\n",
       "Yellow/Brown                    1\n",
       "Brown Brindle/Brown Merle       1\n",
       "Tricolor/Gray                   1\n",
       "Name: color, Length: 529, dtype: int64"
      ]
     },
     "execution_count": 9,
     "metadata": {},
     "output_type": "execute_result"
    }
   ],
   "source": [
    "aac.color.value_counts()"
   ]
  },
  {
   "cell_type": "markdown",
   "metadata": {},
   "source": [
    "There are 529 colors which again probably show some overlap (White/Tan vs Tan/White)."
   ]
  },
  {
   "cell_type": "code",
   "execution_count": 10,
   "metadata": {},
   "outputs": [
    {
     "data": {
      "text/plain": [
       "Stray                 55935\n",
       "Owner Surrender       15028\n",
       "Public Assist          4994\n",
       "Wildlife               3464\n",
       "Euthanasia Request      251\n",
       "Name: intake_type, dtype: int64"
      ]
     },
     "execution_count": 10,
     "metadata": {},
     "output_type": "execute_result"
    }
   ],
   "source": [
    "aac.intake_type.value_counts()"
   ]
  },
  {
   "cell_type": "code",
   "execution_count": 11,
   "metadata": {},
   "outputs": [],
   "source": [
    "intake_type = ['Stray', 'Owner Surrender', 'Public Assist', 'Wildlife', 'Euthanasia Request']\n",
    "complete_years = [2017, 2016, 2015, 2014]\n",
    "intake_dict = dict()\n",
    "\n",
    "for t in intake_type:\n",
    "    t_count = []\n",
    "    for year in complete_years:\n",
    "        t_count.append(aac.loc[(aac['intake_type'] == t) & (aac['intake_year'] == year), ].shape[0])\n",
    "    t_count = np.array(t_count)\n",
    "    intake_dict[str(t)] = t_count"
   ]
  },
  {
   "cell_type": "code",
   "execution_count": 12,
   "metadata": {},
   "outputs": [
    {
     "data": {
      "image/png": "[encoded data removed]",
      "text/plain": [
       "<Figure size 432x288 with 1 Axes>"
      ]
     },
     "metadata": {
      "needs_background": "light"
     },
     "output_type": "display_data"
    }
   ],
   "source": [
    "plt.barh(y=complete_years, width=intake_dict['Stray'], tick_label=complete_years, label='Stray')\n",
    "plt.barh(y=complete_years, width=intake_dict['Owner Surrender'], left=intake_dict['Stray'], label='Owner Surrender')\n",
    "plt.barh(y=complete_years, width=intake_dict['Public Assist'], left=(intake_dict['Stray'] + intake_dict['Owner Surrender']), label='Public Assist')\n",
    "plt.barh(y=complete_years, width=intake_dict['Wildlife'], left=(intake_dict['Stray'] + intake_dict['Owner Surrender'] + intake_dict['Public Assist']), label='Wildlife')\n",
    "plt.barh(y=complete_years, width=intake_dict['Euthanasia Request'], left=(intake_dict['Stray'] + intake_dict['Owner Surrender'] + intake_dict['Public Assist'] + intake_dict['Wildlife']), label='Euthanasia Request')\n",
    "plt.gca().invert_yaxis()\n",
    "plt.legend(bbox_to_anchor=(1.5, 0.8))\n",
    "plt.title('Number of intakes by category')\n",
    "plt.show()"
   ]
  },
  {
   "cell_type": "code",
   "execution_count": 13,
   "metadata": {},
   "outputs": [
    {
     "data": {
      "text/plain": [
       "Adoption           33594\n",
       "Transfer           23799\n",
       "Return to Owner    14791\n",
       "Euthanasia          6244\n",
       "Died                 690\n",
       "Disposal             304\n",
       "Rto-Adopt            179\n",
       "Missing               46\n",
       "Relocate              15\n",
       "Name: outcome_type, dtype: int64"
      ]
     },
     "execution_count": 13,
     "metadata": {},
     "output_type": "execute_result"
    }
   ],
   "source": [
    "aac.outcome_type.value_counts()"
   ]
  },
  {
   "cell_type": "code",
   "execution_count": 14,
   "metadata": {},
   "outputs": [
    {
     "data": {
      "text/html": [
       "<div>\n",
       "<style scoped>\n",
       "    .dataframe tbody tr th:only-of-type {\n",
       "        vertical-align: middle;\n",
       "    }\n",
       "\n",
       "    .dataframe tbody tr th {\n",
       "        vertical-align: top;\n",
       "    }\n",
       "\n",
       "    .dataframe thead th {\n",
       "        text-align: right;\n",
       "    }\n",
       "</style>\n",
       "<table border=\"1\" class=\"dataframe\">\n",
       "  <thead>\n",
       "    <tr style=\"text-align: right;\">\n",
       "      <th></th>\n",
       "      <th>age_upon_intake_(years)</th>\n",
       "      <th>time_in_shelter_days</th>\n",
       "    </tr>\n",
       "  </thead>\n",
       "  <tbody>\n",
       "    <tr>\n",
       "      <th>count</th>\n",
       "      <td>79672.000000</td>\n",
       "      <td>79672.000000</td>\n",
       "    </tr>\n",
       "    <tr>\n",
       "      <th>mean</th>\n",
       "      <td>2.107785</td>\n",
       "      <td>16.757116</td>\n",
       "    </tr>\n",
       "    <tr>\n",
       "      <th>std</th>\n",
       "      <td>2.893175</td>\n",
       "      <td>41.679359</td>\n",
       "    </tr>\n",
       "    <tr>\n",
       "      <th>min</th>\n",
       "      <td>0.000000</td>\n",
       "      <td>0.000000</td>\n",
       "    </tr>\n",
       "    <tr>\n",
       "      <th>25%</th>\n",
       "      <td>0.164384</td>\n",
       "      <td>1.102083</td>\n",
       "    </tr>\n",
       "    <tr>\n",
       "      <th>50%</th>\n",
       "      <td>1.000000</td>\n",
       "      <td>4.987153</td>\n",
       "    </tr>\n",
       "    <tr>\n",
       "      <th>75%</th>\n",
       "      <td>3.000000</td>\n",
       "      <td>13.610764</td>\n",
       "    </tr>\n",
       "    <tr>\n",
       "      <th>max</th>\n",
       "      <td>25.000000</td>\n",
       "      <td>1606.194444</td>\n",
       "    </tr>\n",
       "  </tbody>\n",
       "</table>\n",
       "</div>"
      ],
      "text/plain": [
       "       age_upon_intake_(years)  time_in_shelter_days\n",
       "count             79672.000000          79672.000000\n",
       "mean                  2.107785             16.757116\n",
       "std                   2.893175             41.679359\n",
       "min                   0.000000              0.000000\n",
       "25%                   0.164384              1.102083\n",
       "50%                   1.000000              4.987153\n",
       "75%                   3.000000             13.610764\n",
       "max                  25.000000           1606.194444"
      ]
     },
     "execution_count": 14,
     "metadata": {},
     "output_type": "execute_result"
    }
   ],
   "source": [
    "aac.loc[:, ['age_upon_intake_(years)', 'time_in_shelter_days']].describe()"
   ]
  },
  {
   "cell_type": "code",
   "execution_count": 15,
   "metadata": {},
   "outputs": [
    {
     "data": {
      "image/png": "[encoded data removed]",
      "text/plain": [
       "<Figure size 720x360 with 2 Axes>"
      ]
     },
     "metadata": {
      "needs_background": "light"
     },
     "output_type": "display_data"
    }
   ],
   "source": [
    "fig = plt.subplots(1, 2, figsize=(10, 5))\n",
    "\n",
    "ax1 = plt.subplot(1, 2, 1)\n",
    "plt.hist(aac['age_upon_intake_(years)'])\n",
    "plt.title('Distribution of age on intake')\n",
    "\n",
    "ax2 = plt.subplot(1, 2, 2)\n",
    "plt.hist(aac['time_in_shelter_days'], bins=50)\n",
    "plt.title('Distribution of days in shelter')\n",
    "plt.show()"
   ]
  },
  {
   "cell_type": "markdown",
   "metadata": {},
   "source": [
    "50% of animals have an outcome within 5 days, however some animals are there much longer. The mean is 16.8 days, meaning that the distribution is skewed - it has a long tail as some animals are at the center for a long time. The age distribution is also skewed."
   ]
  },
  {
   "cell_type": "code",
   "execution_count": 16,
   "metadata": {},
   "outputs": [
    {
     "data": {
      "text/plain": [
       "count                   79672\n",
       "unique                  56747\n",
       "top       2016-09-23 12:00:00\n",
       "freq                       64\n",
       "first     2013-10-01 07:51:00\n",
       "last      2018-03-29 18:20:00\n",
       "Name: intake_datetime, dtype: object"
      ]
     },
     "execution_count": 16,
     "metadata": {},
     "output_type": "execute_result"
    }
   ],
   "source": [
    "pd.to_datetime(aac.loc[:, 'intake_datetime']).describe()"
   ]
  },
  {
   "cell_type": "code",
   "execution_count": 17,
   "metadata": {},
   "outputs": [
    {
     "data": {
      "text/plain": [
       "count                   79672\n",
       "unique                  65686\n",
       "top       2016-04-18 00:00:00\n",
       "freq                       39\n",
       "first     2013-10-01 10:39:00\n",
       "last      2018-04-03 18:43:00\n",
       "Name: outcome_datetime, dtype: object"
      ]
     },
     "execution_count": 17,
     "metadata": {},
     "output_type": "execute_result"
    }
   ],
   "source": [
    "pd.to_datetime(aac.loc[:, 'outcome_datetime']).describe()"
   ]
  },
  {
   "cell_type": "markdown",
   "metadata": {},
   "source": [
    "The dataset approximately covers the period from October 2013 to March 2018. "
   ]
  },
  {
   "cell_type": "markdown",
   "metadata": {},
   "source": [
    "#### Monthly trends"
   ]
  },
  {
   "cell_type": "code",
   "execution_count": 18,
   "metadata": {},
   "outputs": [],
   "source": [
    "animal_types = ['Dog', 'Cat', 'Other', 'Bird']"
   ]
  },
  {
   "cell_type": "code",
   "execution_count": 19,
   "metadata": {},
   "outputs": [],
   "source": [
    "monthly_in_out = dict()\n",
    "\n",
    "for animal in animal_types:\n",
    "    df_in = pd.DataFrame(aac.loc[aac['animal_type'] == animal, 'intake_monthyear'].value_counts())\n",
    "    df_in.reset_index(inplace=True)\n",
    "    df_in.rename(columns={'index': 'date', 'intake_monthyear': 'intake'}, inplace=True)\n",
    "    df_in['date'] = pd.to_datetime(df_in['date'])\n",
    "    df_in.sort_values('date', inplace=True)\n",
    "    df_in.reset_index(inplace=True, drop=True)\n",
    "    df_out = pd.DataFrame(aac.loc[aac['animal_type'] == animal, 'outcome_monthyear'].value_counts())\n",
    "    df_out.reset_index(inplace=True)\n",
    "    df_out.rename(columns={'index': 'date', 'outcome_monthyear': 'outtake'}, inplace=True)\n",
    "    df_out['date'] = pd.to_datetime(df_out['date'])\n",
    "    df_out.sort_values('date', inplace=True)\n",
    "    df_out.reset_index(inplace=True, drop=True)\n",
    "    monthly_in_out[str(animal)+'_in'] = df_in\n",
    "    monthly_in_out[str(animal)+'_out'] = df_out\n",
    "\n",
    "all_in = pd.DataFrame(aac.loc[:, 'intake_monthyear'].value_counts())\n",
    "all_in.reset_index(inplace=True)\n",
    "all_in.rename(columns={'index': 'date', 'intake_monthyear': 'intake'}, inplace=True)\n",
    "all_in['date'] = pd.to_datetime(all_in['date'])\n",
    "all_in.sort_values('date', inplace=True)\n",
    "all_in.reset_index(inplace=True, drop=True)\n",
    "    \n",
    "all_out = pd.DataFrame(aac.loc[:, 'outcome_monthyear'].value_counts())\n",
    "all_out.reset_index(inplace=True)\n",
    "all_out.rename(columns={'index': 'date', 'outcome_monthyear': 'outtake'}, inplace=True)\n",
    "all_out['date'] = pd.to_datetime(all_out['date'])\n",
    "all_out.sort_values('date', inplace=True)\n",
    "all_out.reset_index(inplace=True, drop=True)  \n",
    "\n",
    "monthly_in_out['all_in'] = all_in\n",
    "monthly_in_out['all_out'] = all_out"
   ]
  },
  {
   "cell_type": "code",
   "execution_count": 20,
   "metadata": {},
   "outputs": [
    {
     "name": "stderr",
     "output_type": "stream",
     "text": [
      "/usr/local/lib/python3.7/site-packages/pandas/plotting/_converter.py:129: FutureWarning: Using an implicitly registered datetime converter for a matplotlib plotting method. The converter was registered by pandas on import. Future versions of pandas will require you to explicitly register matplotlib converters.\n",
      "\n",
      "To register the converters:\n",
      "\t>>> from pandas.plotting import register_matplotlib_converters\n",
      "\t>>> register_matplotlib_converters()\n",
      "  warnings.warn(msg, FutureWarning)\n"
     ]
    },
    {
     "data": {
      "image/png": "[encoded data removed]",
      "text/plain": [
       "<Figure size 1080x1080 with 10 Axes>"
      ]
     },
     "metadata": {
      "needs_background": "light"
     },
     "output_type": "display_data"
    }
   ],
   "source": [
    "fig, ax = plt.subplots(5, 2, figsize=(15, 15))\n",
    "\n",
    "ax1 = plt.subplot(5, 2, 1)\n",
    "ax1.plot(monthly_in_out['all_in']['date'], monthly_in_out['all_in']['intake'])\n",
    "ax1.set_title('All intake')\n",
    "\n",
    "ax2 = plt.subplot(5, 2, 2)\n",
    "ax2.plot(monthly_in_out['all_out']['date'], monthly_in_out['all_out']['outtake'])\n",
    "ax2.set_title('All outtake')\n",
    "\n",
    "ax3 = plt.subplot(5, 2, 3)\n",
    "ax3.plot(monthly_in_out['Dog_in']['date'], monthly_in_out['Dog_in']['intake'])\n",
    "ax3.set_title('Dog intake')\n",
    "\n",
    "ax4 = plt.subplot(5, 2, 4)\n",
    "ax4.plot(monthly_in_out['Dog_out']['date'], monthly_in_out['Dog_out']['outtake'])\n",
    "ax4.set_title('Dog outtake')\n",
    "\n",
    "ax5 = plt.subplot(5, 2, 5)\n",
    "ax5.plot(monthly_in_out['Cat_in']['date'], monthly_in_out['Cat_in']['intake'])\n",
    "ax5.set_title('Cat intake')\n",
    "\n",
    "ax6 = plt.subplot(5, 2, 6)\n",
    "ax6.plot(monthly_in_out['Cat_out']['date'], monthly_in_out['Cat_out']['outtake'])\n",
    "ax6.set_title('Cat outtake')\n",
    "\n",
    "ax7 = plt.subplot(5, 2, 7)\n",
    "ax7.plot(monthly_in_out['Bird_in']['date'], monthly_in_out['Bird_in']['intake'])\n",
    "ax7.set_title('Bird intake')\n",
    "\n",
    "ax8 = plt.subplot(5, 2, 8)\n",
    "ax8.plot(monthly_in_out['Bird_out']['date'], monthly_in_out['Bird_out']['outtake'])\n",
    "ax8.set_title('Bird outtake')\n",
    "\n",
    "ax9 = plt.subplot(5, 2, 9)\n",
    "ax9.plot(monthly_in_out['Other_in']['date'], monthly_in_out['Other_in']['intake'])\n",
    "ax9.set_title('Other intake')\n",
    "\n",
    "ax10 = plt.subplot(5, 2, 10)\n",
    "ax10.plot(monthly_in_out['Other_out']['date'], monthly_in_out['Other_out']['outtake'])\n",
    "ax10.set_title('Other outtake')\n",
    "\n",
    "plt.tight_layout()\n",
    "plt.show()"
   ]
  },
  {
   "cell_type": "markdown",
   "metadata": {},
   "source": [
    "There is clear seasonality in the intake and outtake which is driven mostly by cats. There are many more cats being taken in and also adopted during the summer - this is probably 'kitten season'. The dog intake appears to be slowly declining over time. The bird intake and outtake is generally low with one large outlier - perhaps several birds were lost and found together? The 'other' intake also shows seasonality with spikes in the first quarter of the year. <br>\n",
    "\n",
    "There is a tailing off of outtake at the end of the dataset. This is a function of the dataset only including animals which both entered and left the center during this period. It is likely that there is a corresponding number of animals leaving the center at the start of the period which are not visible in this dataset because they entered the center before the starting date of this dataset."
   ]
  },
  {
   "cell_type": "markdown",
   "metadata": {},
   "source": [
    "#### Daily trends"
   ]
  },
  {
   "cell_type": "code",
   "execution_count": 21,
   "metadata": {},
   "outputs": [],
   "source": [
    "time_period = pd.date_range(pd.to_datetime('2013-10-01'), pd.to_datetime('2018-04-03'))\n",
    "pop = pd.DataFrame()\n",
    "pop['date'] = time_period"
   ]
  },
  {
   "cell_type": "code",
   "execution_count": 22,
   "metadata": {},
   "outputs": [],
   "source": [
    "aac['date_in'] = pd.to_datetime(aac['intake_datetime']).apply(lambda x: x.date())\n",
    "aac['date_out'] = pd.to_datetime(aac['outcome_datetime']).apply(lambda x: x.date())"
   ]
  },
  {
   "cell_type": "code",
   "execution_count": 23,
   "metadata": {},
   "outputs": [],
   "source": [
    "pop_dict = dict()\n",
    "\n",
    "for animal in animal_types:\n",
    "    animal_in = []\n",
    "    animal_out = []\n",
    "    for date in time_period:\n",
    "        animal_in.append(sum(date.date() == aac.loc[aac['animal_type'] == animal, 'date_in']))\n",
    "        animal_out.append(sum(date.date() == aac.loc[aac['animal_type'] == animal, 'date_out']))\n",
    "    pop_dict[str(animal)+'_in'] = animal_in\n",
    "    pop_dict[str(animal)+'_out'] = animal_out"
   ]
  },
  {
   "cell_type": "code",
   "execution_count": 24,
   "metadata": {},
   "outputs": [],
   "source": [
    "for animal in animal_types:\n",
    "    pop[str(animal)+'_in'] = pop_dict[str(animal)+'_in']\n",
    "    pop[str(animal)+'_out'] = pop_dict[str(animal)+'_out']\n",
    "    pop[str(animal)+'_change'] = pop[str(animal)+'_in'] - pop[str(animal)+'_out']\n",
    "    pop[str(animal)+'_pop'] = pop[str(animal)+'_change'].expanding(1).sum()"
   ]
  },
  {
   "cell_type": "code",
   "execution_count": 25,
   "metadata": {},
   "outputs": [],
   "source": [
    "pop_total = pop.groupby(pop.columns.str.split(\"_\").str[1],axis=1).sum()\n",
    "pop = pd.concat([pop, pop_total], axis=1)"
   ]
  },
  {
   "cell_type": "code",
   "execution_count": 26,
   "metadata": {},
   "outputs": [],
   "source": [
    "pop.columns = ['date', 'dog_in', 'dog_out', 'dog_change', 'dog_pop',\n",
    "               'cat_in', 'cat_out', 'cat_change', 'cat_pop',\n",
    "               'other_in', 'other_out', 'other_change', 'other_pop', \n",
    "               'bird_in', 'bird_out', 'bird_change', 'bird_pop',\n",
    "               'all_change', 'all_in', 'all_out', 'all_pop']"
   ]
  },
  {
   "cell_type": "code",
   "execution_count": 27,
   "metadata": {
    "scrolled": true
   },
   "outputs": [
    {
     "data": {
      "text/html": [
       "<div>\n",
       "<style scoped>\n",
       "    .dataframe tbody tr th:only-of-type {\n",
       "        vertical-align: middle;\n",
       "    }\n",
       "\n",
       "    .dataframe tbody tr th {\n",
       "        vertical-align: top;\n",
       "    }\n",
       "\n",
       "    .dataframe thead th {\n",
       "        text-align: right;\n",
       "    }\n",
       "</style>\n",
       "<table border=\"1\" class=\"dataframe\">\n",
       "  <thead>\n",
       "    <tr style=\"text-align: right;\">\n",
       "      <th></th>\n",
       "      <th>date</th>\n",
       "      <th>dog_in</th>\n",
       "      <th>dog_out</th>\n",
       "      <th>dog_change</th>\n",
       "      <th>dog_pop</th>\n",
       "      <th>cat_in</th>\n",
       "      <th>cat_out</th>\n",
       "      <th>cat_change</th>\n",
       "      <th>cat_pop</th>\n",
       "      <th>other_in</th>\n",
       "      <th>...</th>\n",
       "      <th>other_change</th>\n",
       "      <th>other_pop</th>\n",
       "      <th>bird_in</th>\n",
       "      <th>bird_out</th>\n",
       "      <th>bird_change</th>\n",
       "      <th>bird_pop</th>\n",
       "      <th>all_change</th>\n",
       "      <th>all_in</th>\n",
       "      <th>all_out</th>\n",
       "      <th>all_pop</th>\n",
       "    </tr>\n",
       "  </thead>\n",
       "  <tbody>\n",
       "    <tr>\n",
       "      <th>0</th>\n",
       "      <td>2013-10-01</td>\n",
       "      <td>42</td>\n",
       "      <td>7</td>\n",
       "      <td>35</td>\n",
       "      <td>35.0</td>\n",
       "      <td>35</td>\n",
       "      <td>11</td>\n",
       "      <td>24</td>\n",
       "      <td>24.0</td>\n",
       "      <td>0</td>\n",
       "      <td>...</td>\n",
       "      <td>0</td>\n",
       "      <td>0.0</td>\n",
       "      <td>0</td>\n",
       "      <td>0</td>\n",
       "      <td>0</td>\n",
       "      <td>0.0</td>\n",
       "      <td>59</td>\n",
       "      <td>77</td>\n",
       "      <td>18</td>\n",
       "      <td>59.0</td>\n",
       "    </tr>\n",
       "    <tr>\n",
       "      <th>1</th>\n",
       "      <td>2013-10-02</td>\n",
       "      <td>28</td>\n",
       "      <td>6</td>\n",
       "      <td>22</td>\n",
       "      <td>57.0</td>\n",
       "      <td>22</td>\n",
       "      <td>12</td>\n",
       "      <td>10</td>\n",
       "      <td>34.0</td>\n",
       "      <td>3</td>\n",
       "      <td>...</td>\n",
       "      <td>1</td>\n",
       "      <td>1.0</td>\n",
       "      <td>0</td>\n",
       "      <td>0</td>\n",
       "      <td>0</td>\n",
       "      <td>0.0</td>\n",
       "      <td>33</td>\n",
       "      <td>53</td>\n",
       "      <td>20</td>\n",
       "      <td>92.0</td>\n",
       "    </tr>\n",
       "    <tr>\n",
       "      <th>2</th>\n",
       "      <td>2013-10-03</td>\n",
       "      <td>26</td>\n",
       "      <td>3</td>\n",
       "      <td>23</td>\n",
       "      <td>80.0</td>\n",
       "      <td>14</td>\n",
       "      <td>13</td>\n",
       "      <td>1</td>\n",
       "      <td>35.0</td>\n",
       "      <td>2</td>\n",
       "      <td>...</td>\n",
       "      <td>0</td>\n",
       "      <td>1.0</td>\n",
       "      <td>0</td>\n",
       "      <td>0</td>\n",
       "      <td>0</td>\n",
       "      <td>0.0</td>\n",
       "      <td>24</td>\n",
       "      <td>42</td>\n",
       "      <td>18</td>\n",
       "      <td>116.0</td>\n",
       "    </tr>\n",
       "    <tr>\n",
       "      <th>3</th>\n",
       "      <td>2013-10-04</td>\n",
       "      <td>30</td>\n",
       "      <td>5</td>\n",
       "      <td>25</td>\n",
       "      <td>105.0</td>\n",
       "      <td>16</td>\n",
       "      <td>0</td>\n",
       "      <td>16</td>\n",
       "      <td>51.0</td>\n",
       "      <td>1</td>\n",
       "      <td>...</td>\n",
       "      <td>1</td>\n",
       "      <td>2.0</td>\n",
       "      <td>0</td>\n",
       "      <td>0</td>\n",
       "      <td>0</td>\n",
       "      <td>0.0</td>\n",
       "      <td>42</td>\n",
       "      <td>47</td>\n",
       "      <td>5</td>\n",
       "      <td>158.0</td>\n",
       "    </tr>\n",
       "    <tr>\n",
       "      <th>4</th>\n",
       "      <td>2013-10-05</td>\n",
       "      <td>39</td>\n",
       "      <td>13</td>\n",
       "      <td>26</td>\n",
       "      <td>131.0</td>\n",
       "      <td>26</td>\n",
       "      <td>8</td>\n",
       "      <td>18</td>\n",
       "      <td>69.0</td>\n",
       "      <td>2</td>\n",
       "      <td>...</td>\n",
       "      <td>0</td>\n",
       "      <td>2.0</td>\n",
       "      <td>0</td>\n",
       "      <td>0</td>\n",
       "      <td>0</td>\n",
       "      <td>0.0</td>\n",
       "      <td>44</td>\n",
       "      <td>67</td>\n",
       "      <td>23</td>\n",
       "      <td>202.0</td>\n",
       "    </tr>\n",
       "  </tbody>\n",
       "</table>\n",
       "<p>5 rows × 21 columns</p>\n",
       "</div>"
      ],
      "text/plain": [
       "        date  dog_in  dog_out  dog_change  dog_pop  cat_in  cat_out  \\\n",
       "0 2013-10-01      42        7          35     35.0      35       11   \n",
       "1 2013-10-02      28        6          22     57.0      22       12   \n",
       "2 2013-10-03      26        3          23     80.0      14       13   \n",
       "3 2013-10-04      30        5          25    105.0      16        0   \n",
       "4 2013-10-05      39       13          26    131.0      26        8   \n",
       "\n",
       "   cat_change  cat_pop  other_in  ...  other_change  other_pop  bird_in  \\\n",
       "0          24     24.0         0  ...             0        0.0        0   \n",
       "1          10     34.0         3  ...             1        1.0        0   \n",
       "2           1     35.0         2  ...             0        1.0        0   \n",
       "3          16     51.0         1  ...             1        2.0        0   \n",
       "4          18     69.0         2  ...             0        2.0        0   \n",
       "\n",
       "   bird_out  bird_change  bird_pop  all_change  all_in  all_out  all_pop  \n",
       "0         0            0       0.0          59      77       18     59.0  \n",
       "1         0            0       0.0          33      53       20     92.0  \n",
       "2         0            0       0.0          24      42       18    116.0  \n",
       "3         0            0       0.0          42      47        5    158.0  \n",
       "4         0            0       0.0          44      67       23    202.0  \n",
       "\n",
       "[5 rows x 21 columns]"
      ]
     },
     "execution_count": 27,
     "metadata": {},
     "output_type": "execute_result"
    }
   ],
   "source": [
    "pop.head()"
   ]
  },
  {
   "cell_type": "code",
   "execution_count": 28,
   "metadata": {},
   "outputs": [
    {
     "data": {
      "image/png": "[encoded data removed]",
      "text/plain": [
       "<Figure size 1080x360 with 1 Axes>"
      ]
     },
     "metadata": {
      "needs_background": "light"
     },
     "output_type": "display_data"
    }
   ],
   "source": [
    "fig = plt.figure(figsize = (15, 5))\n",
    "\n",
    "plt.plot(pop.date, pop.all_pop)\n",
    "plt.plot(pop.date, pop.dog_pop)\n",
    "plt.plot(pop.date, pop.cat_pop)\n",
    "plt.plot(pop.date, pop.bird_pop)\n",
    "plt.plot(pop.date, pop.other_pop)\n",
    "\n",
    "plt.title('Shelter population')\n",
    "plt.legend()\n",
    "plt.show()"
   ]
  },
  {
   "cell_type": "markdown",
   "metadata": {},
   "source": [
    "The shelter population is clearly driven by the changes in the cat population. The dog population remains relatively constant all year round and the bird and other populations are so small they are a negligible part of the total. There is a clear climb and tailing off of the data at the start and end resulting from the fact that the dataset only contains animals who both joined and exited the population within the timeframe."
   ]
  },
  {
   "cell_type": "code",
   "execution_count": 29,
   "metadata": {},
   "outputs": [
    {
     "data": {
      "image/png": "[encoded data removed]",
      "text/plain": [
       "<Figure size 720x360 with 1 Axes>"
      ]
     },
     "metadata": {
      "needs_background": "light"
     },
     "output_type": "display_data"
    }
   ],
   "source": [
    "fig = plt.figure(figsize = (10, 5))\n",
    "\n",
    "plt.plot('date', 'all_pop', data=pop.loc[pop['date'].isin(pd.date_range('2015-06-01', '2015-07-01')), ])\n",
    "plt.plot('date', 'dog_pop', data=pop.loc[pop['date'].isin(pd.date_range('2015-06-01', '2015-07-01')), ])\n",
    "plt.plot('date', 'cat_pop', data=pop.loc[pop['date'].isin(pd.date_range('2015-06-01', '2015-07-01')), ])\n",
    "plt.plot('date', 'bird_pop', data=pop.loc[pop['date'].isin(pd.date_range('2015-06-01', '2015-07-01')), ])\n",
    "plt.plot('date', 'other_pop', data=pop.loc[pop['date'].isin(pd.date_range('2015-06-01', '2015-07-01')), ])\n",
    "\n",
    "plt.title('Shelter population - 1 month')\n",
    "plt.legend()\n",
    "plt.show()"
   ]
  },
  {
   "cell_type": "markdown",
   "metadata": {},
   "source": [
    "There is no obvious weekly seasonality."
   ]
  },
  {
   "cell_type": "markdown",
   "metadata": {},
   "source": [
    "### Data cleaning\n",
    "\n",
    "The first and last three months of the population data will be discarded. This is because the original dataset contains only animals which both joined and left the center during the period, so some of the center population is missing. The median stay for an animal is 5 days, and the mean is 17 days. By discarding the first and last three months of population data it can be fairly certain that the population numbers are not significantly skewed by animals arriving and leaving the center who are not included in the dataset.\n",
    "<br>\n",
    "\n",
    "The missing values will not be filled at this time as there is no intent to use any of the variables with missing values in this project."
   ]
  },
  {
   "cell_type": "code",
   "execution_count": 30,
   "metadata": {},
   "outputs": [],
   "source": [
    "pop_4yr = pop.loc[(pop['date'] >= '2014-01-01') & (pop['date'] <= '2017-12-31'), ]\n",
    "pop_4yr.reset_index(inplace=True, drop=True)"
   ]
  },
  {
   "cell_type": "code",
   "execution_count": 31,
   "metadata": {},
   "outputs": [
    {
     "data": {
      "text/plain": [
       "(1461, 21)"
      ]
     },
     "execution_count": 31,
     "metadata": {},
     "output_type": "execute_result"
    }
   ],
   "source": [
    "pop_4yr.shape"
   ]
  },
  {
   "cell_type": "code",
   "execution_count": 32,
   "metadata": {},
   "outputs": [
    {
     "data": {
      "text/html": [
       "<div>\n",
       "<style scoped>\n",
       "    .dataframe tbody tr th:only-of-type {\n",
       "        vertical-align: middle;\n",
       "    }\n",
       "\n",
       "    .dataframe tbody tr th {\n",
       "        vertical-align: top;\n",
       "    }\n",
       "\n",
       "    .dataframe thead th {\n",
       "        text-align: right;\n",
       "    }\n",
       "</style>\n",
       "<table border=\"1\" class=\"dataframe\">\n",
       "  <thead>\n",
       "    <tr style=\"text-align: right;\">\n",
       "      <th></th>\n",
       "      <th>date</th>\n",
       "      <th>dog_in</th>\n",
       "      <th>dog_out</th>\n",
       "      <th>dog_change</th>\n",
       "      <th>dog_pop</th>\n",
       "      <th>cat_in</th>\n",
       "      <th>cat_out</th>\n",
       "      <th>cat_change</th>\n",
       "      <th>cat_pop</th>\n",
       "      <th>other_in</th>\n",
       "      <th>...</th>\n",
       "      <th>other_change</th>\n",
       "      <th>other_pop</th>\n",
       "      <th>bird_in</th>\n",
       "      <th>bird_out</th>\n",
       "      <th>bird_change</th>\n",
       "      <th>bird_pop</th>\n",
       "      <th>all_change</th>\n",
       "      <th>all_in</th>\n",
       "      <th>all_out</th>\n",
       "      <th>all_pop</th>\n",
       "    </tr>\n",
       "  </thead>\n",
       "  <tbody>\n",
       "    <tr>\n",
       "      <th>0</th>\n",
       "      <td>2014-01-01</td>\n",
       "      <td>39</td>\n",
       "      <td>37</td>\n",
       "      <td>2</td>\n",
       "      <td>347.0</td>\n",
       "      <td>7</td>\n",
       "      <td>11</td>\n",
       "      <td>-4</td>\n",
       "      <td>123.0</td>\n",
       "      <td>2</td>\n",
       "      <td>...</td>\n",
       "      <td>1</td>\n",
       "      <td>5.0</td>\n",
       "      <td>0</td>\n",
       "      <td>0</td>\n",
       "      <td>0</td>\n",
       "      <td>0.0</td>\n",
       "      <td>-1</td>\n",
       "      <td>48</td>\n",
       "      <td>49</td>\n",
       "      <td>475.0</td>\n",
       "    </tr>\n",
       "    <tr>\n",
       "      <th>1</th>\n",
       "      <td>2014-01-02</td>\n",
       "      <td>34</td>\n",
       "      <td>25</td>\n",
       "      <td>9</td>\n",
       "      <td>356.0</td>\n",
       "      <td>11</td>\n",
       "      <td>14</td>\n",
       "      <td>-3</td>\n",
       "      <td>120.0</td>\n",
       "      <td>4</td>\n",
       "      <td>...</td>\n",
       "      <td>-2</td>\n",
       "      <td>3.0</td>\n",
       "      <td>0</td>\n",
       "      <td>0</td>\n",
       "      <td>0</td>\n",
       "      <td>0.0</td>\n",
       "      <td>4</td>\n",
       "      <td>49</td>\n",
       "      <td>45</td>\n",
       "      <td>479.0</td>\n",
       "    </tr>\n",
       "    <tr>\n",
       "      <th>2</th>\n",
       "      <td>2014-01-03</td>\n",
       "      <td>29</td>\n",
       "      <td>40</td>\n",
       "      <td>-11</td>\n",
       "      <td>345.0</td>\n",
       "      <td>8</td>\n",
       "      <td>13</td>\n",
       "      <td>-5</td>\n",
       "      <td>115.0</td>\n",
       "      <td>0</td>\n",
       "      <td>...</td>\n",
       "      <td>-1</td>\n",
       "      <td>2.0</td>\n",
       "      <td>0</td>\n",
       "      <td>0</td>\n",
       "      <td>0</td>\n",
       "      <td>0.0</td>\n",
       "      <td>-17</td>\n",
       "      <td>37</td>\n",
       "      <td>54</td>\n",
       "      <td>462.0</td>\n",
       "    </tr>\n",
       "    <tr>\n",
       "      <th>3</th>\n",
       "      <td>2014-01-04</td>\n",
       "      <td>38</td>\n",
       "      <td>23</td>\n",
       "      <td>15</td>\n",
       "      <td>360.0</td>\n",
       "      <td>13</td>\n",
       "      <td>6</td>\n",
       "      <td>7</td>\n",
       "      <td>122.0</td>\n",
       "      <td>0</td>\n",
       "      <td>...</td>\n",
       "      <td>0</td>\n",
       "      <td>2.0</td>\n",
       "      <td>0</td>\n",
       "      <td>0</td>\n",
       "      <td>0</td>\n",
       "      <td>0.0</td>\n",
       "      <td>22</td>\n",
       "      <td>51</td>\n",
       "      <td>29</td>\n",
       "      <td>484.0</td>\n",
       "    </tr>\n",
       "    <tr>\n",
       "      <th>4</th>\n",
       "      <td>2014-01-05</td>\n",
       "      <td>20</td>\n",
       "      <td>54</td>\n",
       "      <td>-34</td>\n",
       "      <td>326.0</td>\n",
       "      <td>11</td>\n",
       "      <td>12</td>\n",
       "      <td>-1</td>\n",
       "      <td>121.0</td>\n",
       "      <td>1</td>\n",
       "      <td>...</td>\n",
       "      <td>0</td>\n",
       "      <td>2.0</td>\n",
       "      <td>0</td>\n",
       "      <td>0</td>\n",
       "      <td>0</td>\n",
       "      <td>0.0</td>\n",
       "      <td>-35</td>\n",
       "      <td>32</td>\n",
       "      <td>67</td>\n",
       "      <td>449.0</td>\n",
       "    </tr>\n",
       "  </tbody>\n",
       "</table>\n",
       "<p>5 rows × 21 columns</p>\n",
       "</div>"
      ],
      "text/plain": [
       "        date  dog_in  dog_out  dog_change  dog_pop  cat_in  cat_out  \\\n",
       "0 2014-01-01      39       37           2    347.0       7       11   \n",
       "1 2014-01-02      34       25           9    356.0      11       14   \n",
       "2 2014-01-03      29       40         -11    345.0       8       13   \n",
       "3 2014-01-04      38       23          15    360.0      13        6   \n",
       "4 2014-01-05      20       54         -34    326.0      11       12   \n",
       "\n",
       "   cat_change  cat_pop  other_in  ...  other_change  other_pop  bird_in  \\\n",
       "0          -4    123.0         2  ...             1        5.0        0   \n",
       "1          -3    120.0         4  ...            -2        3.0        0   \n",
       "2          -5    115.0         0  ...            -1        2.0        0   \n",
       "3           7    122.0         0  ...             0        2.0        0   \n",
       "4          -1    121.0         1  ...             0        2.0        0   \n",
       "\n",
       "   bird_out  bird_change  bird_pop  all_change  all_in  all_out  all_pop  \n",
       "0         0            0       0.0          -1      48       49    475.0  \n",
       "1         0            0       0.0           4      49       45    479.0  \n",
       "2         0            0       0.0         -17      37       54    462.0  \n",
       "3         0            0       0.0          22      51       29    484.0  \n",
       "4         0            0       0.0         -35      32       67    449.0  \n",
       "\n",
       "[5 rows x 21 columns]"
      ]
     },
     "execution_count": 32,
     "metadata": {},
     "output_type": "execute_result"
    }
   ],
   "source": [
    "pop_4yr.head()"
   ]
  },
  {
   "cell_type": "markdown",
   "metadata": {},
   "source": [
    "### Supplementary data\n",
    "#### Population of Austin, Texas, over time"
   ]
  },
  {
   "cell_type": "markdown",
   "metadata": {},
   "source": [
    "The information comes from the census, [here](https://factfinder.census.gov/bkmk/table/1.0/en/PEP/2018/PEPANNRES/1620000US4805000)."
   ]
  },
  {
   "cell_type": "code",
   "execution_count": 33,
   "metadata": {},
   "outputs": [],
   "source": [
    "austin_pop = pd.read_csv('./austin_pop/PEP_2018_PEPANNRES_with_ann.csv')"
   ]
  },
  {
   "cell_type": "code",
   "execution_count": 34,
   "metadata": {},
   "outputs": [],
   "source": [
    "austin_pop = austin_pop.T\n",
    "austin_pop.set_index(0, inplace=True)\n",
    "austin_pop = austin_pop.T"
   ]
  },
  {
   "cell_type": "code",
   "execution_count": 35,
   "metadata": {},
   "outputs": [],
   "source": [
    "austin_pop.columns = ['id1', 'id2', 'place', '2010-census', '2010-base', '2010', '2011', '2012', '2013', '2014', '2015', '2016', '2017', '2018' ]"
   ]
  },
  {
   "cell_type": "code",
   "execution_count": 36,
   "metadata": {},
   "outputs": [],
   "source": [
    "austin_pop_4yr = austin_pop.drop(['id1', 'id2', 'place', '2010-census', '2010-base', '2010', '2011', '2012', '2013', '2018'], axis=1)"
   ]
  },
  {
   "cell_type": "code",
   "execution_count": 37,
   "metadata": {},
   "outputs": [],
   "source": [
    "austin_pop_4yr = austin_pop_4yr.T"
   ]
  },
  {
   "cell_type": "code",
   "execution_count": 38,
   "metadata": {},
   "outputs": [],
   "source": [
    "austin_pop_4yr.reset_index(inplace=True)"
   ]
  },
  {
   "cell_type": "code",
   "execution_count": 39,
   "metadata": {},
   "outputs": [],
   "source": [
    "austin_pop_4yr.columns = ['year', 'population']\n",
    "austin_pop_4yr['year'] = austin_pop_4yr['year'].apply(lambda x: int(x))"
   ]
  },
  {
   "cell_type": "code",
   "execution_count": 40,
   "metadata": {},
   "outputs": [
    {
     "data": {
      "text/html": [
       "<div>\n",
       "<style scoped>\n",
       "    .dataframe tbody tr th:only-of-type {\n",
       "        vertical-align: middle;\n",
       "    }\n",
       "\n",
       "    .dataframe tbody tr th {\n",
       "        vertical-align: top;\n",
       "    }\n",
       "\n",
       "    .dataframe thead th {\n",
       "        text-align: right;\n",
       "    }\n",
       "</style>\n",
       "<table border=\"1\" class=\"dataframe\">\n",
       "  <thead>\n",
       "    <tr style=\"text-align: right;\">\n",
       "      <th></th>\n",
       "      <th>year</th>\n",
       "      <th>population</th>\n",
       "    </tr>\n",
       "  </thead>\n",
       "  <tbody>\n",
       "    <tr>\n",
       "      <th>0</th>\n",
       "      <td>2014</td>\n",
       "      <td>901734</td>\n",
       "    </tr>\n",
       "    <tr>\n",
       "      <th>1</th>\n",
       "      <td>2015</td>\n",
       "      <td>921545</td>\n",
       "    </tr>\n",
       "    <tr>\n",
       "      <th>2</th>\n",
       "      <td>2016</td>\n",
       "      <td>939768</td>\n",
       "    </tr>\n",
       "    <tr>\n",
       "      <th>3</th>\n",
       "      <td>2017</td>\n",
       "      <td>951750</td>\n",
       "    </tr>\n",
       "  </tbody>\n",
       "</table>\n",
       "</div>"
      ],
      "text/plain": [
       "   year population\n",
       "0  2014     901734\n",
       "1  2015     921545\n",
       "2  2016     939768\n",
       "3  2017     951750"
      ]
     },
     "execution_count": 40,
     "metadata": {},
     "output_type": "execute_result"
    }
   ],
   "source": [
    "austin_pop_4yr.head()"
   ]
  },
  {
   "cell_type": "markdown",
   "metadata": {},
   "source": [
    "#### Labor force and unemployment"
   ]
  },
  {
   "cell_type": "code",
   "execution_count": 41,
   "metadata": {},
   "outputs": [],
   "source": [
    "austin_empl = pd.read_excel('austin-bureau-labor-stats2.xlsx')"
   ]
  },
  {
   "cell_type": "code",
   "execution_count": 42,
   "metadata": {},
   "outputs": [],
   "source": [
    "austin_empl_4yr_str = austin_empl.loc[(austin_empl['Year'] > 2013) & (austin_empl['Year'] < 2018), ]\n",
    "austin_empl_4yr_str.reset_index(inplace=True, drop=True)"
   ]
  },
  {
   "cell_type": "code",
   "execution_count": 43,
   "metadata": {},
   "outputs": [
    {
     "data": {
      "text/html": [
       "<div>\n",
       "<style scoped>\n",
       "    .dataframe tbody tr th:only-of-type {\n",
       "        vertical-align: middle;\n",
       "    }\n",
       "\n",
       "    .dataframe tbody tr th {\n",
       "        vertical-align: top;\n",
       "    }\n",
       "\n",
       "    .dataframe thead th {\n",
       "        text-align: right;\n",
       "    }\n",
       "</style>\n",
       "<table border=\"1\" class=\"dataframe\">\n",
       "  <thead>\n",
       "    <tr style=\"text-align: right;\">\n",
       "      <th></th>\n",
       "      <th>Year</th>\n",
       "      <th>Period</th>\n",
       "      <th>labor force</th>\n",
       "      <th>employment</th>\n",
       "      <th>unemployment</th>\n",
       "      <th>unemployment rate</th>\n",
       "    </tr>\n",
       "  </thead>\n",
       "  <tbody>\n",
       "    <tr>\n",
       "      <th>0</th>\n",
       "      <td>2014</td>\n",
       "      <td>Jan</td>\n",
       "      <td>1035195(R)</td>\n",
       "      <td>987600(R)</td>\n",
       "      <td>47595(R)</td>\n",
       "      <td>4.6(R)</td>\n",
       "    </tr>\n",
       "    <tr>\n",
       "      <th>1</th>\n",
       "      <td>2014</td>\n",
       "      <td>Feb</td>\n",
       "      <td>1042912(R)</td>\n",
       "      <td>994851(R)</td>\n",
       "      <td>48061(R)</td>\n",
       "      <td>4.6(R)</td>\n",
       "    </tr>\n",
       "    <tr>\n",
       "      <th>2</th>\n",
       "      <td>2014</td>\n",
       "      <td>Mar</td>\n",
       "      <td>1048496(R)</td>\n",
       "      <td>1001150(R)</td>\n",
       "      <td>47346(R)</td>\n",
       "      <td>4.5(R)</td>\n",
       "    </tr>\n",
       "    <tr>\n",
       "      <th>3</th>\n",
       "      <td>2014</td>\n",
       "      <td>Apr</td>\n",
       "      <td>1044885(R)</td>\n",
       "      <td>1005105(R)</td>\n",
       "      <td>39780(R)</td>\n",
       "      <td>3.8(R)</td>\n",
       "    </tr>\n",
       "    <tr>\n",
       "      <th>4</th>\n",
       "      <td>2014</td>\n",
       "      <td>May</td>\n",
       "      <td>1046702(R)</td>\n",
       "      <td>1003032(R)</td>\n",
       "      <td>43670(R)</td>\n",
       "      <td>4.2(R)</td>\n",
       "    </tr>\n",
       "  </tbody>\n",
       "</table>\n",
       "</div>"
      ],
      "text/plain": [
       "   Year Period labor force  employment unemployment unemployment rate\n",
       "0  2014    Jan  1035195(R)   987600(R)     47595(R)            4.6(R)\n",
       "1  2014    Feb  1042912(R)   994851(R)     48061(R)            4.6(R)\n",
       "2  2014    Mar  1048496(R)  1001150(R)     47346(R)            4.5(R)\n",
       "3  2014    Apr  1044885(R)  1005105(R)     39780(R)            3.8(R)\n",
       "4  2014    May  1046702(R)  1003032(R)     43670(R)            4.2(R)"
      ]
     },
     "execution_count": 43,
     "metadata": {},
     "output_type": "execute_result"
    }
   ],
   "source": [
    "austin_empl_4yr_str.head()"
   ]
  },
  {
   "cell_type": "code",
   "execution_count": 44,
   "metadata": {},
   "outputs": [],
   "source": [
    "austin_empl_4yr = pd.DataFrame({'monthyear': austin_empl_4yr_str['Year'].map(str) + ' ' + austin_empl_4yr_str['Period']})\n",
    "austin_empl_4yr['monthyear'] = pd.to_datetime(austin_empl_4yr['monthyear'])\n",
    "\n",
    "for col in ['labor force', 'employment', 'unemployment', 'unemployment rate']:\n",
    "    new_col = austin_empl_4yr_str[col].str.split('\\(R\\)', expand=True)\n",
    "    austin_empl_4yr[col] = new_col[0]\n",
    "    austin_empl_4yr[col].apply(lambda x: float(x))"
   ]
  },
  {
   "cell_type": "code",
   "execution_count": 45,
   "metadata": {},
   "outputs": [
    {
     "data": {
      "text/html": [
       "<div>\n",
       "<style scoped>\n",
       "    .dataframe tbody tr th:only-of-type {\n",
       "        vertical-align: middle;\n",
       "    }\n",
       "\n",
       "    .dataframe tbody tr th {\n",
       "        vertical-align: top;\n",
       "    }\n",
       "\n",
       "    .dataframe thead th {\n",
       "        text-align: right;\n",
       "    }\n",
       "</style>\n",
       "<table border=\"1\" class=\"dataframe\">\n",
       "  <thead>\n",
       "    <tr style=\"text-align: right;\">\n",
       "      <th></th>\n",
       "      <th>monthyear</th>\n",
       "      <th>labor force</th>\n",
       "      <th>employment</th>\n",
       "      <th>unemployment</th>\n",
       "      <th>unemployment rate</th>\n",
       "    </tr>\n",
       "  </thead>\n",
       "  <tbody>\n",
       "    <tr>\n",
       "      <th>0</th>\n",
       "      <td>2014-01-01</td>\n",
       "      <td>1035195</td>\n",
       "      <td>987600</td>\n",
       "      <td>47595</td>\n",
       "      <td>4.6</td>\n",
       "    </tr>\n",
       "    <tr>\n",
       "      <th>1</th>\n",
       "      <td>2014-02-01</td>\n",
       "      <td>1042912</td>\n",
       "      <td>994851</td>\n",
       "      <td>48061</td>\n",
       "      <td>4.6</td>\n",
       "    </tr>\n",
       "    <tr>\n",
       "      <th>2</th>\n",
       "      <td>2014-03-01</td>\n",
       "      <td>1048496</td>\n",
       "      <td>1001150</td>\n",
       "      <td>47346</td>\n",
       "      <td>4.5</td>\n",
       "    </tr>\n",
       "    <tr>\n",
       "      <th>3</th>\n",
       "      <td>2014-04-01</td>\n",
       "      <td>1044885</td>\n",
       "      <td>1005105</td>\n",
       "      <td>39780</td>\n",
       "      <td>3.8</td>\n",
       "    </tr>\n",
       "    <tr>\n",
       "      <th>4</th>\n",
       "      <td>2014-05-01</td>\n",
       "      <td>1046702</td>\n",
       "      <td>1003032</td>\n",
       "      <td>43670</td>\n",
       "      <td>4.2</td>\n",
       "    </tr>\n",
       "  </tbody>\n",
       "</table>\n",
       "</div>"
      ],
      "text/plain": [
       "   monthyear labor force employment unemployment unemployment rate\n",
       "0 2014-01-01     1035195     987600        47595               4.6\n",
       "1 2014-02-01     1042912     994851        48061               4.6\n",
       "2 2014-03-01     1048496    1001150        47346               4.5\n",
       "3 2014-04-01     1044885    1005105        39780               3.8\n",
       "4 2014-05-01     1046702    1003032        43670               4.2"
      ]
     },
     "execution_count": 45,
     "metadata": {},
     "output_type": "execute_result"
    }
   ],
   "source": [
    "austin_empl_4yr.head()"
   ]
  },
  {
   "cell_type": "code",
   "execution_count": 46,
   "metadata": {},
   "outputs": [
    {
     "data": {
      "text/html": [
       "<div>\n",
       "<style scoped>\n",
       "    .dataframe tbody tr th:only-of-type {\n",
       "        vertical-align: middle;\n",
       "    }\n",
       "\n",
       "    .dataframe tbody tr th {\n",
       "        vertical-align: top;\n",
       "    }\n",
       "\n",
       "    .dataframe thead th {\n",
       "        text-align: right;\n",
       "    }\n",
       "</style>\n",
       "<table border=\"1\" class=\"dataframe\">\n",
       "  <thead>\n",
       "    <tr style=\"text-align: right;\">\n",
       "      <th></th>\n",
       "      <th>monthyear</th>\n",
       "      <th>labor force</th>\n",
       "      <th>employment</th>\n",
       "      <th>unemployment</th>\n",
       "      <th>unemployment rate</th>\n",
       "    </tr>\n",
       "  </thead>\n",
       "  <tbody>\n",
       "    <tr>\n",
       "      <th>43</th>\n",
       "      <td>2017-08-01</td>\n",
       "      <td>1158965</td>\n",
       "      <td>1120214</td>\n",
       "      <td>38751</td>\n",
       "      <td>3.3</td>\n",
       "    </tr>\n",
       "    <tr>\n",
       "      <th>44</th>\n",
       "      <td>2017-09-01</td>\n",
       "      <td>1171048</td>\n",
       "      <td>1136122</td>\n",
       "      <td>34926</td>\n",
       "      <td>3.0</td>\n",
       "    </tr>\n",
       "    <tr>\n",
       "      <th>45</th>\n",
       "      <td>2017-10-01</td>\n",
       "      <td>1169309</td>\n",
       "      <td>1136714</td>\n",
       "      <td>32595</td>\n",
       "      <td>2.8</td>\n",
       "    </tr>\n",
       "    <tr>\n",
       "      <th>46</th>\n",
       "      <td>2017-11-01</td>\n",
       "      <td>1174771</td>\n",
       "      <td>1140548</td>\n",
       "      <td>34223</td>\n",
       "      <td>2.9</td>\n",
       "    </tr>\n",
       "    <tr>\n",
       "      <th>47</th>\n",
       "      <td>2017-12-01</td>\n",
       "      <td>1173564</td>\n",
       "      <td>1140501</td>\n",
       "      <td>33063</td>\n",
       "      <td>2.8</td>\n",
       "    </tr>\n",
       "  </tbody>\n",
       "</table>\n",
       "</div>"
      ],
      "text/plain": [
       "    monthyear labor force employment unemployment unemployment rate\n",
       "43 2017-08-01     1158965    1120214        38751               3.3\n",
       "44 2017-09-01     1171048    1136122        34926               3.0\n",
       "45 2017-10-01     1169309    1136714        32595               2.8\n",
       "46 2017-11-01     1174771    1140548        34223               2.9\n",
       "47 2017-12-01     1173564    1140501        33063               2.8"
      ]
     },
     "execution_count": 46,
     "metadata": {},
     "output_type": "execute_result"
    }
   ],
   "source": [
    "austin_empl_4yr.tail()"
   ]
  },
  {
   "cell_type": "markdown",
   "metadata": {},
   "source": [
    "### All data together"
   ]
  },
  {
   "cell_type": "code",
   "execution_count": 47,
   "metadata": {},
   "outputs": [],
   "source": [
    "data_4yr = pop_4yr.copy()\n",
    "\n",
    "data_4yr['austin_pop'] = pop_4yr['date'].apply(lambda x: austin_pop_4yr.loc[austin_pop_4yr.year == x.year, 'population'].values[0])\n",
    "data_4yr['austin_lf'] = pop_4yr['date'].apply(lambda x: austin_empl_4yr.loc[austin_empl_4yr.monthyear == (pd.to_datetime(str(x.year) + ' ' + str(x.month))), 'labor force'].values[0])\n",
    "data_4yr['austin_ur'] = pop_4yr['date'].apply(lambda x: austin_empl_4yr.loc[austin_empl_4yr.monthyear == (pd.to_datetime(str(x.year) + ' ' + str(x.month))), 'unemployment rate'].values[0])"
   ]
  },
  {
   "cell_type": "code",
   "execution_count": 48,
   "metadata": {},
   "outputs": [
    {
     "data": {
      "text/html": [
       "<div>\n",
       "<style scoped>\n",
       "    .dataframe tbody tr th:only-of-type {\n",
       "        vertical-align: middle;\n",
       "    }\n",
       "\n",
       "    .dataframe tbody tr th {\n",
       "        vertical-align: top;\n",
       "    }\n",
       "\n",
       "    .dataframe thead th {\n",
       "        text-align: right;\n",
       "    }\n",
       "</style>\n",
       "<table border=\"1\" class=\"dataframe\">\n",
       "  <thead>\n",
       "    <tr style=\"text-align: right;\">\n",
       "      <th></th>\n",
       "      <th>date</th>\n",
       "      <th>dog_in</th>\n",
       "      <th>dog_out</th>\n",
       "      <th>dog_change</th>\n",
       "      <th>dog_pop</th>\n",
       "      <th>cat_in</th>\n",
       "      <th>cat_out</th>\n",
       "      <th>cat_change</th>\n",
       "      <th>cat_pop</th>\n",
       "      <th>other_in</th>\n",
       "      <th>...</th>\n",
       "      <th>bird_out</th>\n",
       "      <th>bird_change</th>\n",
       "      <th>bird_pop</th>\n",
       "      <th>all_change</th>\n",
       "      <th>all_in</th>\n",
       "      <th>all_out</th>\n",
       "      <th>all_pop</th>\n",
       "      <th>austin_pop</th>\n",
       "      <th>austin_lf</th>\n",
       "      <th>austin_ur</th>\n",
       "    </tr>\n",
       "  </thead>\n",
       "  <tbody>\n",
       "    <tr>\n",
       "      <th>0</th>\n",
       "      <td>2014-01-01</td>\n",
       "      <td>39</td>\n",
       "      <td>37</td>\n",
       "      <td>2</td>\n",
       "      <td>347.0</td>\n",
       "      <td>7</td>\n",
       "      <td>11</td>\n",
       "      <td>-4</td>\n",
       "      <td>123.0</td>\n",
       "      <td>2</td>\n",
       "      <td>...</td>\n",
       "      <td>0</td>\n",
       "      <td>0</td>\n",
       "      <td>0.0</td>\n",
       "      <td>-1</td>\n",
       "      <td>48</td>\n",
       "      <td>49</td>\n",
       "      <td>475.0</td>\n",
       "      <td>901734</td>\n",
       "      <td>1035195</td>\n",
       "      <td>4.6</td>\n",
       "    </tr>\n",
       "    <tr>\n",
       "      <th>1</th>\n",
       "      <td>2014-01-02</td>\n",
       "      <td>34</td>\n",
       "      <td>25</td>\n",
       "      <td>9</td>\n",
       "      <td>356.0</td>\n",
       "      <td>11</td>\n",
       "      <td>14</td>\n",
       "      <td>-3</td>\n",
       "      <td>120.0</td>\n",
       "      <td>4</td>\n",
       "      <td>...</td>\n",
       "      <td>0</td>\n",
       "      <td>0</td>\n",
       "      <td>0.0</td>\n",
       "      <td>4</td>\n",
       "      <td>49</td>\n",
       "      <td>45</td>\n",
       "      <td>479.0</td>\n",
       "      <td>901734</td>\n",
       "      <td>1035195</td>\n",
       "      <td>4.6</td>\n",
       "    </tr>\n",
       "    <tr>\n",
       "      <th>2</th>\n",
       "      <td>2014-01-03</td>\n",
       "      <td>29</td>\n",
       "      <td>40</td>\n",
       "      <td>-11</td>\n",
       "      <td>345.0</td>\n",
       "      <td>8</td>\n",
       "      <td>13</td>\n",
       "      <td>-5</td>\n",
       "      <td>115.0</td>\n",
       "      <td>0</td>\n",
       "      <td>...</td>\n",
       "      <td>0</td>\n",
       "      <td>0</td>\n",
       "      <td>0.0</td>\n",
       "      <td>-17</td>\n",
       "      <td>37</td>\n",
       "      <td>54</td>\n",
       "      <td>462.0</td>\n",
       "      <td>901734</td>\n",
       "      <td>1035195</td>\n",
       "      <td>4.6</td>\n",
       "    </tr>\n",
       "    <tr>\n",
       "      <th>3</th>\n",
       "      <td>2014-01-04</td>\n",
       "      <td>38</td>\n",
       "      <td>23</td>\n",
       "      <td>15</td>\n",
       "      <td>360.0</td>\n",
       "      <td>13</td>\n",
       "      <td>6</td>\n",
       "      <td>7</td>\n",
       "      <td>122.0</td>\n",
       "      <td>0</td>\n",
       "      <td>...</td>\n",
       "      <td>0</td>\n",
       "      <td>0</td>\n",
       "      <td>0.0</td>\n",
       "      <td>22</td>\n",
       "      <td>51</td>\n",
       "      <td>29</td>\n",
       "      <td>484.0</td>\n",
       "      <td>901734</td>\n",
       "      <td>1035195</td>\n",
       "      <td>4.6</td>\n",
       "    </tr>\n",
       "    <tr>\n",
       "      <th>4</th>\n",
       "      <td>2014-01-05</td>\n",
       "      <td>20</td>\n",
       "      <td>54</td>\n",
       "      <td>-34</td>\n",
       "      <td>326.0</td>\n",
       "      <td>11</td>\n",
       "      <td>12</td>\n",
       "      <td>-1</td>\n",
       "      <td>121.0</td>\n",
       "      <td>1</td>\n",
       "      <td>...</td>\n",
       "      <td>0</td>\n",
       "      <td>0</td>\n",
       "      <td>0.0</td>\n",
       "      <td>-35</td>\n",
       "      <td>32</td>\n",
       "      <td>67</td>\n",
       "      <td>449.0</td>\n",
       "      <td>901734</td>\n",
       "      <td>1035195</td>\n",
       "      <td>4.6</td>\n",
       "    </tr>\n",
       "  </tbody>\n",
       "</table>\n",
       "<p>5 rows × 24 columns</p>\n",
       "</div>"
      ],
      "text/plain": [
       "        date  dog_in  dog_out  dog_change  dog_pop  cat_in  cat_out  \\\n",
       "0 2014-01-01      39       37           2    347.0       7       11   \n",
       "1 2014-01-02      34       25           9    356.0      11       14   \n",
       "2 2014-01-03      29       40         -11    345.0       8       13   \n",
       "3 2014-01-04      38       23          15    360.0      13        6   \n",
       "4 2014-01-05      20       54         -34    326.0      11       12   \n",
       "\n",
       "   cat_change  cat_pop  other_in  ...  bird_out  bird_change  bird_pop  \\\n",
       "0          -4    123.0         2  ...         0            0       0.0   \n",
       "1          -3    120.0         4  ...         0            0       0.0   \n",
       "2          -5    115.0         0  ...         0            0       0.0   \n",
       "3           7    122.0         0  ...         0            0       0.0   \n",
       "4          -1    121.0         1  ...         0            0       0.0   \n",
       "\n",
       "   all_change  all_in  all_out  all_pop  austin_pop  austin_lf  austin_ur  \n",
       "0          -1      48       49    475.0      901734    1035195        4.6  \n",
       "1           4      49       45    479.0      901734    1035195        4.6  \n",
       "2         -17      37       54    462.0      901734    1035195        4.6  \n",
       "3          22      51       29    484.0      901734    1035195        4.6  \n",
       "4         -35      32       67    449.0      901734    1035195        4.6  \n",
       "\n",
       "[5 rows x 24 columns]"
      ]
     },
     "execution_count": 48,
     "metadata": {},
     "output_type": "execute_result"
    }
   ],
   "source": [
    "data_4yr.head()"
   ]
  },
  {
   "cell_type": "code",
   "execution_count": 49,
   "metadata": {},
   "outputs": [
    {
     "data": {
      "text/html": [
       "<div>\n",
       "<style scoped>\n",
       "    .dataframe tbody tr th:only-of-type {\n",
       "        vertical-align: middle;\n",
       "    }\n",
       "\n",
       "    .dataframe tbody tr th {\n",
       "        vertical-align: top;\n",
       "    }\n",
       "\n",
       "    .dataframe thead th {\n",
       "        text-align: right;\n",
       "    }\n",
       "</style>\n",
       "<table border=\"1\" class=\"dataframe\">\n",
       "  <thead>\n",
       "    <tr style=\"text-align: right;\">\n",
       "      <th></th>\n",
       "      <th>date</th>\n",
       "      <th>dog_in</th>\n",
       "      <th>dog_out</th>\n",
       "      <th>dog_change</th>\n",
       "      <th>dog_pop</th>\n",
       "      <th>cat_in</th>\n",
       "      <th>cat_out</th>\n",
       "      <th>cat_change</th>\n",
       "      <th>cat_pop</th>\n",
       "      <th>other_in</th>\n",
       "      <th>...</th>\n",
       "      <th>bird_out</th>\n",
       "      <th>bird_change</th>\n",
       "      <th>bird_pop</th>\n",
       "      <th>all_change</th>\n",
       "      <th>all_in</th>\n",
       "      <th>all_out</th>\n",
       "      <th>all_pop</th>\n",
       "      <th>austin_pop</th>\n",
       "      <th>austin_lf</th>\n",
       "      <th>austin_ur</th>\n",
       "    </tr>\n",
       "  </thead>\n",
       "  <tbody>\n",
       "    <tr>\n",
       "      <th>1456</th>\n",
       "      <td>2017-12-27</td>\n",
       "      <td>27</td>\n",
       "      <td>29</td>\n",
       "      <td>-2</td>\n",
       "      <td>358.0</td>\n",
       "      <td>7</td>\n",
       "      <td>11</td>\n",
       "      <td>-4</td>\n",
       "      <td>239.0</td>\n",
       "      <td>2</td>\n",
       "      <td>...</td>\n",
       "      <td>0</td>\n",
       "      <td>0</td>\n",
       "      <td>0.0</td>\n",
       "      <td>-6</td>\n",
       "      <td>36</td>\n",
       "      <td>42</td>\n",
       "      <td>606.0</td>\n",
       "      <td>951750</td>\n",
       "      <td>1173564</td>\n",
       "      <td>2.8</td>\n",
       "    </tr>\n",
       "    <tr>\n",
       "      <th>1457</th>\n",
       "      <td>2017-12-28</td>\n",
       "      <td>21</td>\n",
       "      <td>23</td>\n",
       "      <td>-2</td>\n",
       "      <td>356.0</td>\n",
       "      <td>6</td>\n",
       "      <td>15</td>\n",
       "      <td>-9</td>\n",
       "      <td>230.0</td>\n",
       "      <td>4</td>\n",
       "      <td>...</td>\n",
       "      <td>0</td>\n",
       "      <td>0</td>\n",
       "      <td>0.0</td>\n",
       "      <td>-11</td>\n",
       "      <td>31</td>\n",
       "      <td>42</td>\n",
       "      <td>595.0</td>\n",
       "      <td>951750</td>\n",
       "      <td>1173564</td>\n",
       "      <td>2.8</td>\n",
       "    </tr>\n",
       "    <tr>\n",
       "      <th>1458</th>\n",
       "      <td>2017-12-29</td>\n",
       "      <td>24</td>\n",
       "      <td>27</td>\n",
       "      <td>-3</td>\n",
       "      <td>353.0</td>\n",
       "      <td>8</td>\n",
       "      <td>20</td>\n",
       "      <td>-12</td>\n",
       "      <td>218.0</td>\n",
       "      <td>0</td>\n",
       "      <td>...</td>\n",
       "      <td>0</td>\n",
       "      <td>0</td>\n",
       "      <td>0.0</td>\n",
       "      <td>-15</td>\n",
       "      <td>32</td>\n",
       "      <td>47</td>\n",
       "      <td>580.0</td>\n",
       "      <td>951750</td>\n",
       "      <td>1173564</td>\n",
       "      <td>2.8</td>\n",
       "    </tr>\n",
       "    <tr>\n",
       "      <th>1459</th>\n",
       "      <td>2017-12-30</td>\n",
       "      <td>33</td>\n",
       "      <td>20</td>\n",
       "      <td>13</td>\n",
       "      <td>366.0</td>\n",
       "      <td>5</td>\n",
       "      <td>15</td>\n",
       "      <td>-10</td>\n",
       "      <td>208.0</td>\n",
       "      <td>2</td>\n",
       "      <td>...</td>\n",
       "      <td>0</td>\n",
       "      <td>0</td>\n",
       "      <td>0.0</td>\n",
       "      <td>4</td>\n",
       "      <td>40</td>\n",
       "      <td>36</td>\n",
       "      <td>584.0</td>\n",
       "      <td>951750</td>\n",
       "      <td>1173564</td>\n",
       "      <td>2.8</td>\n",
       "    </tr>\n",
       "    <tr>\n",
       "      <th>1460</th>\n",
       "      <td>2017-12-31</td>\n",
       "      <td>29</td>\n",
       "      <td>34</td>\n",
       "      <td>-5</td>\n",
       "      <td>361.0</td>\n",
       "      <td>11</td>\n",
       "      <td>15</td>\n",
       "      <td>-4</td>\n",
       "      <td>204.0</td>\n",
       "      <td>0</td>\n",
       "      <td>...</td>\n",
       "      <td>0</td>\n",
       "      <td>0</td>\n",
       "      <td>0.0</td>\n",
       "      <td>-9</td>\n",
       "      <td>40</td>\n",
       "      <td>49</td>\n",
       "      <td>575.0</td>\n",
       "      <td>951750</td>\n",
       "      <td>1173564</td>\n",
       "      <td>2.8</td>\n",
       "    </tr>\n",
       "  </tbody>\n",
       "</table>\n",
       "<p>5 rows × 24 columns</p>\n",
       "</div>"
      ],
      "text/plain": [
       "           date  dog_in  dog_out  dog_change  dog_pop  cat_in  cat_out  \\\n",
       "1456 2017-12-27      27       29          -2    358.0       7       11   \n",
       "1457 2017-12-28      21       23          -2    356.0       6       15   \n",
       "1458 2017-12-29      24       27          -3    353.0       8       20   \n",
       "1459 2017-12-30      33       20          13    366.0       5       15   \n",
       "1460 2017-12-31      29       34          -5    361.0      11       15   \n",
       "\n",
       "      cat_change  cat_pop  other_in  ...  bird_out  bird_change  bird_pop  \\\n",
       "1456          -4    239.0         2  ...         0            0       0.0   \n",
       "1457          -9    230.0         4  ...         0            0       0.0   \n",
       "1458         -12    218.0         0  ...         0            0       0.0   \n",
       "1459         -10    208.0         2  ...         0            0       0.0   \n",
       "1460          -4    204.0         0  ...         0            0       0.0   \n",
       "\n",
       "      all_change  all_in  all_out  all_pop  austin_pop  austin_lf  austin_ur  \n",
       "1456          -6      36       42    606.0      951750    1173564        2.8  \n",
       "1457         -11      31       42    595.0      951750    1173564        2.8  \n",
       "1458         -15      32       47    580.0      951750    1173564        2.8  \n",
       "1459           4      40       36    584.0      951750    1173564        2.8  \n",
       "1460          -9      40       49    575.0      951750    1173564        2.8  \n",
       "\n",
       "[5 rows x 24 columns]"
      ]
     },
     "execution_count": 49,
     "metadata": {},
     "output_type": "execute_result"
    }
   ],
   "source": [
    "data_4yr.tail()"
   ]
  },
  {
   "cell_type": "code",
   "execution_count": null,
   "metadata": {},
   "outputs": [],
   "source": []
  }
 ],
 "metadata": {
  "kernelspec": {
   "display_name": "Python 3",
   "language": "python",
   "name": "python3"
  },
  "language_info": {
   "codemirror_mode": {
    "name": "ipython",
    "version": 3
   },
   "file_extension": ".py",
   "mimetype": "text/x-python",
   "name": "python",
   "nbconvert_exporter": "python",
   "pygments_lexer": "ipython3",
   "version": "3.7.3"
  }
 },
 "nbformat": 4,
 "nbformat_minor": 2
}
