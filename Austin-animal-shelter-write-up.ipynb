{
 "cells": [
  {
   "cell_type": "code",
   "execution_count": 1,
   "metadata": {},
   "outputs": [],
   "source": [
    "import numpy as np\n",
    "import pandas as pd\n",
    "import matplotlib.pyplot as plt\n",
    "%matplotlib inline\n",
    "import seaborn as sns"
   ]
  },
  {
   "cell_type": "markdown",
   "metadata": {},
   "source": [
    "# Forecasting the population of the Austin Animal Center\n",
    "\n",
    "This project uses data from the Austin Animal Center to forecast the expected population of the shelter. Forecasting the number of animals the shelter is likely to have in future is important for the shelter in terms of planning, budgeting and resourcing. \n",
    "\n",
    "The data I have used for this project can be downloaded from [here](https://www.kaggle.com/aaronschlegel/austin-animal-center-shelter-intakes-and-outcomes).\n",
    "\n",
    "## Data\n",
    "### Initial exploration"
   ]
  },
  {
   "cell_type": "code",
   "execution_count": 2,
   "metadata": {},
   "outputs": [],
   "source": [
    "aac = pd.read_csv('aac_intakes_outcomes.csv')"
   ]
  },
  {
   "cell_type": "code",
   "execution_count": 3,
   "metadata": {},
   "outputs": [
    {
     "data": {
      "text/plain": [
       "(79672, 41)"
      ]
     },
     "execution_count": 3,
     "metadata": {},
     "output_type": "execute_result"
    }
   ],
   "source": [
    "aac.shape"
   ]
  },
  {
   "cell_type": "markdown",
   "metadata": {},
   "source": [
    "There are 79,672 observations in the data and 41 variables."
   ]
  },
  {
   "cell_type": "code",
   "execution_count": 4,
   "metadata": {},
   "outputs": [
    {
     "data": {
      "text/plain": [
       "age_upon_outcome                                                   10 years\n",
       "animal_id_outcome                                                   A006100\n",
       "date_of_birth                                           2007-07-09 00:00:00\n",
       "outcome_subtype                                                         NaN\n",
       "outcome_type                                                Return to Owner\n",
       "sex_upon_outcome                                              Neutered Male\n",
       "age_upon_outcome_(days)                                                3650\n",
       "age_upon_outcome_(years)                                                 10\n",
       "age_upon_outcome_age_group                                      (7.5, 10.0]\n",
       "outcome_datetime                                        2017-12-07 14:07:00\n",
       "outcome_month                                                            12\n",
       "outcome_year                                                           2017\n",
       "outcome_monthyear                                                   2017-12\n",
       "outcome_weekday                                                    Thursday\n",
       "outcome_hour                                                              0\n",
       "outcome_number                                                            1\n",
       "dob_year                                                               2007\n",
       "dob_month                                                                 7\n",
       "dob_monthyear                                                       2017-12\n",
       "age_upon_intake                                                    10 years\n",
       "animal_id_intake                                                    A006100\n",
       "animal_type                                                             Dog\n",
       "breed                                                  Spinone Italiano Mix\n",
       "color                                                          Yellow/White\n",
       "found_location                Colony Creek And Hunters Trace in Austin (TX)\n",
       "intake_condition                                                     Normal\n",
       "intake_type                                                           Stray\n",
       "sex_upon_intake                                               Neutered Male\n",
       "count                                                                     1\n",
       "age_upon_intake_(days)                                                 3650\n",
       "age_upon_intake_(years)                                                  10\n",
       "age_upon_intake_age_group                                       (7.5, 10.0]\n",
       "intake_datetime                                         2017-12-07 00:00:00\n",
       "intake_month                                                             12\n",
       "intake_year                                                            2017\n",
       "intake_monthyear                                                    2017-12\n",
       "intake_weekday                                                     Thursday\n",
       "intake_hour                                                              14\n",
       "intake_number                                                             1\n",
       "time_in_shelter                                   0 days 14:07:00.000000000\n",
       "time_in_shelter_days                                               0.588194\n",
       "Name: 0, dtype: object"
      ]
     },
     "execution_count": 4,
     "metadata": {},
     "output_type": "execute_result"
    }
   ],
   "source": [
    "aac.loc[0, ]"
   ]
  },
  {
   "cell_type": "markdown",
   "metadata": {},
   "source": [
    "Several of the variables are derivatives of the time the animal arrived at or left the shelter. "
   ]
  },
  {
   "cell_type": "code",
   "execution_count": 5,
   "metadata": {},
   "outputs": [
    {
     "data": {
      "text/plain": [
       "age_upon_outcome                  0\n",
       "animal_id_outcome                 0\n",
       "date_of_birth                     0\n",
       "outcome_subtype               43324\n",
       "outcome_type                     10\n",
       "sex_upon_outcome                  1\n",
       "age_upon_outcome_(days)           0\n",
       "age_upon_outcome_(years)          0\n",
       "age_upon_outcome_age_group        0\n",
       "outcome_datetime                  0\n",
       "outcome_month                     0\n",
       "outcome_year                      0\n",
       "outcome_monthyear                 0\n",
       "outcome_weekday                   0\n",
       "outcome_hour                      0\n",
       "outcome_number                    0\n",
       "dob_year                          0\n",
       "dob_month                         0\n",
       "dob_monthyear                     0\n",
       "age_upon_intake                   0\n",
       "animal_id_intake                  0\n",
       "animal_type                       0\n",
       "breed                             0\n",
       "color                             0\n",
       "found_location                    0\n",
       "intake_condition                  0\n",
       "intake_type                       0\n",
       "sex_upon_intake                   1\n",
       "count                             0\n",
       "age_upon_intake_(days)            0\n",
       "age_upon_intake_(years)           0\n",
       "age_upon_intake_age_group         0\n",
       "intake_datetime                   0\n",
       "intake_month                      0\n",
       "intake_year                       0\n",
       "intake_monthyear                  0\n",
       "intake_weekday                    0\n",
       "intake_hour                       0\n",
       "intake_number                     0\n",
       "time_in_shelter                   0\n",
       "time_in_shelter_days              0\n",
       "dtype: int64"
      ]
     },
     "execution_count": 5,
     "metadata": {},
     "output_type": "execute_result"
    }
   ],
   "source": [
    "aac.isnull().sum()"
   ]
  },
  {
   "cell_type": "markdown",
   "metadata": {},
   "source": [
    "There is very little data missing from the dataset. The outcome subtype is often missing but this may be because it is often not relevant (e.g. there appears to be no subtype needed if the animal was returned to owner)."
   ]
  },
  {
   "cell_type": "markdown",
   "metadata": {},
   "source": [
    "### Checking"
   ]
  },
  {
   "cell_type": "code",
   "execution_count": 63,
   "metadata": {},
   "outputs": [
    {
     "name": "stdout",
     "output_type": "stream",
     "text": [
      "79518 : age_upon_outcome > age_upon_intake\n",
      "79672 : Year in date_of_birth = dob_year\n",
      "79672 : outcome_year - dob_year - age (years) = -1, 0 or 1\n",
      "79672 : animal_id_intake = animal_id_outcome\n",
      "79672 : outcome_datetime >= intake_datetime\n",
      "79672 : outcome_datetime - intake_datetime = time_in_shelter\n"
     ]
    }
   ],
   "source": [
    "## These should all total 79,672.\n",
    "\n",
    "print(sum(aac['age_upon_outcome_(years)'] >= aac['age_upon_intake_(years)']), ': age_upon_outcome > age_upon_intake', )\n",
    "print(sum(aac['dob_year'] == pd.to_datetime(aac['date_of_birth']).apply(lambda x: x.year)), ': Year in date_of_birth = dob_year')\n",
    "print(sum((aac['outcome_year'] - aac['dob_year'] - aac['age_upon_outcome_(years)'].astype(int)).isin([-1, 0, 1])), ': outcome_year - dob_year - age (years) = -1, 0 or 1')\n",
    "print(sum(aac['animal_id_intake'] == aac['animal_id_outcome']), ': animal_id_intake = animal_id_outcome')\n",
    "print(sum(pd.to_datetime(aac['outcome_datetime']) >= pd.to_datetime(aac['intake_datetime'])), ': outcome_datetime >= intake_datetime')\n",
    "print(sum((pd.to_datetime(aac['outcome_datetime']) - pd.to_datetime(aac['intake_datetime'])) == aac['time_in_shelter']), ': outcome_datetime - intake_datetime = time_in_shelter')"
   ]
  },
  {
   "cell_type": "markdown",
   "metadata": {},
   "source": [
    "Generally the data appears in good shape. Around 150 ages change in the wrong direction while animals are at the shelter, though this may because their ages are guessed when they arrive."
   ]
  },
  {
   "cell_type": "markdown",
   "metadata": {},
   "source": [
    "### Exploratory data analysis"
   ]
  },
  {
   "cell_type": "code",
   "execution_count": null,
   "metadata": {},
   "outputs": [],
   "source": []
  }
 ],
 "metadata": {
  "kernelspec": {
   "display_name": "Python 3",
   "language": "python",
   "name": "python3"
  },
  "language_info": {
   "codemirror_mode": {
    "name": "ipython",
    "version": 3
   },
   "file_extension": ".py",
   "mimetype": "text/x-python",
   "name": "python",
   "nbconvert_exporter": "python",
   "pygments_lexer": "ipython3",
   "version": "3.7.3"
  }
 },
 "nbformat": 4,
 "nbformat_minor": 2
}
